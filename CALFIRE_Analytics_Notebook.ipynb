{
 "cells": [
  {
   "cell_type": "markdown",
   "id": "b17e5706be689aad",
   "metadata": {},
   "source": [
    "# **CAL FIRE Trend Forecasting and Analysis**\n"
   ]
  },
  {
   "cell_type": "markdown",
   "id": "cdee293e1231ebc",
   "metadata": {},
   "source": [
    "## Description and deliverables\n",
    "\n",
    "California experiences some of the most severe and frequent wildfires in the United States. With the current tides of climate change, population growth, and developing land uses, understanding patterns of wildfire activity is becoming an increasingly important consideration for the residents and government of California. To better understand these patterns and support proactive decision-making, this project focuses on trend forecasting and analysis using historical incident data provided by CAL Fire.\n",
    "\n",
    "The project integrates data analytics and machine learning techniques to explore wildfire behavior, identify risk factors, and generate predictive insights. The workflow begins with acquiring raw incident data directly from CAL FIRE's public databases, followed by data cleaning, transformation, and storage in a relation database for efficient querying. Exploratory data analysis (EDA) highlights temporal, geographic, and environmental patterns to allow for further insights. Additionally, machine learning techniques are applied to the data in order to uncover even more trends that display wildfire activity analytics.\n",
    "\n",
    "The end product is a data pipeline and interactive dashboard that automatically updates with new incident data, delivering actionable insights to fire management agencies, policymakers, and researchers. This allows stakeholders to track wildfire activity in realtime, monitor trends, and simulate future scenarios to improve preparedness, resource allocation, and public safety.\n",
    "\n",
    "This notebook serves as the back-bone of this project's workflow. While all dashboards, visualizations, and metrics can be viewed by running the the core Python file, this notebook keeps track of the ins-and-outs of the decision-making behind the analysis."
   ]
  },
  {
   "cell_type": "markdown",
   "id": "fce9c78df0edb63f",
   "metadata": {},
   "source": [
    "## Exploratory Data Analysis (EDA)\n",
    "\n",
    "In the dataset provided by [CAL FIRE](https://www.fire.ca.gov/), detailed records of wildfire incidents across California are made publicly available. The data can be accessed directly through CAL FIRE's open data portal [here](https://incidents.fire.ca.gov/imapdata/mapdataall.csv), which is updated regularly to reflect both active and historical incidents.\n",
    "\n",
    "This dataset includes a number of attributes, but the ones we will be focusing on are:\n",
    "Variable|Description |\n",
    "-----|-----|\n",
    "incident_name | The official name or title of the wildfire incident.|\n",
    "incident_date_created | The date and time when the incident was first reported or created in the system.|\n",
    "incident_administrative_unit | The CAL FIRE administrative unit or agency responsible for managing the incident.|\n",
    "incident_county | The county in California where the incident occurred.|\n",
    "incident_location | A descriptive location of the incident, such as city, town, or nearby landmark.|\n",
    "incident_acres_burned | The total number of acres burned during the incident.|\n",
    "incident_containment | The percentage of the fire that has been contained at the time of reporting.|\n",
    "incident_cooperating_agencies | Other local, state, or federal agencies assisting with the incident response.|\n",
    "incident_longitude | The longitude coordinate of the incident’s location.|\n",
    "incident_latitude | The latitude coordinate of the incident’s location.|\n",
    "incident_id | A unique identifier assigned to each incident (string or numeric).|\n",
    "incident_url | A direct link to the CAL FIRE incident webpage for more details.|\n",
    "incident_date_extinguished | The date and time when the incident was declared fully extinguished.|\n",
    "is_active | Status flag indicating whether the incident is still active or has been contained/closed. |\n",
    "calfire_incident | Boolean value indicating whether the incident was directly managed by CAL FIRE. |"
   ]
  },
  {
   "cell_type": "markdown",
   "id": "b1d6ffbb789168b1",
   "metadata": {},
   "source": [
    "## Step 1. Initializing a Database\n",
    "\n",
    "The first step in our analysis is to construct a database to store the most up-to-date 'incidents' data. For this task, we will be initializing a Google Cloud PostgreSQL instance and creating/uploading/verifying our database automatically when the username and password are entered. The included Python script in this repository, \"download_data.py\", will complete this when run in the next code block if execute is set to \"True\" (Only enable if database is online). After, all we have to do is query the data and begin EDA!"
   ]
  },
  {
   "cell_type": "code",
   "id": "4f908fd603f606dd",
   "metadata": {
    "ExecuteTime": {
     "end_time": "2025-08-25T07:45:36.609925Z",
     "start_time": "2025-08-25T07:45:36.607Z"
    }
   },
   "source": [
    "# Execute the creation of Database\n",
    "create = False\n",
    "# Set to true if PostgreSQL database is online\n",
    "accessible = True\n",
    "instance_connection_name = 'instance_name:us-west1:wildfires-postgres'\n",
    "db_user = 'postgres'\n",
    "db_pass = 'password'"
   ],
   "outputs": [],
   "execution_count": 15
  },
  {
   "cell_type": "code",
   "id": "d59e244e2182afc5",
   "metadata": {
    "collapsed": true,
    "jupyter": {
     "outputs_hidden": true
    },
    "ExecuteTime": {
     "end_time": "2025-08-25T07:45:42.989333Z",
     "start_time": "2025-08-25T07:45:39.614218Z"
    }
   },
   "source": [
    "if create:\n",
    "    try:\n",
    "        import push_to_PostgreSQL\n",
    "        push_to_PostgreSQL.main(instance_connection_name, db_user, db_pass)\n",
    "        print(\"Database created successfully\")\n",
    "    except Exception as e:\n",
    "        print(f\"Database creation failed: {e}\")\n",
    "if accessible:\n",
    "    import extract_from_PostgreSQL\n",
    "    df = extract_from_PostgreSQL.load_data(instance_connection_name, db_user, db_pass)"
   ],
   "outputs": [
    {
     "name": "stderr",
     "output_type": "stream",
     "text": [
      "['instance_name:us-west1:wildfires-postgres']: An error occurred while performing refresh. Scheduling another refresh attempt immediately\n",
      "Traceback (most recent call last):\n",
      "  File \"C:\\Users\\orion\\PycharmProjects\\CAL_FIRE\\.venv\\Lib\\site-packages\\google\\cloud\\sql\\connector\\instance.py\", line 162, in _refresh_task\n",
      "    refresh_data = await refresh_task\n",
      "                   ^^^^^^^^^^^^^^^^^^\n",
      "  File \"C:\\Users\\orion\\PycharmProjects\\CAL_FIRE\\.venv\\Lib\\site-packages\\google\\cloud\\sql\\connector\\instance.py\", line 117, in _perform_refresh\n",
      "    connection_info = await self._client.get_connection_info(\n",
      "                      ^^^^^^^^^^^^^^^^^^^^^^^^^^^^^^^^^^^^^^^\n",
      "    ...<3 lines>...\n",
      "    )\n",
      "    ^\n",
      "  File \"C:\\Users\\orion\\PycharmProjects\\CAL_FIRE\\.venv\\Lib\\site-packages\\google\\cloud\\sql\\connector\\client.py\", line 297, in get_connection_info\n",
      "    metadata = await metadata_task\n",
      "               ^^^^^^^^^^^^^^^^^^^\n",
      "  File \"C:\\Users\\orion\\PycharmProjects\\CAL_FIRE\\.venv\\Lib\\site-packages\\google\\cloud\\sql\\connector\\client.py\", line 141, in _get_metadata\n",
      "    resp.raise_for_status()\n",
      "    ~~~~~~~~~~~~~~~~~~~~~^^\n",
      "  File \"C:\\Users\\orion\\PycharmProjects\\CAL_FIRE\\.venv\\Lib\\site-packages\\aiohttp\\client_reqrep.py\", line 629, in raise_for_status\n",
      "    raise ClientResponseError(\n",
      "    ...<5 lines>...\n",
      "    )\n",
      "aiohttp.client_exceptions.ClientResponseError: 400, message='Invalid request: Invalid full instance name (instance_name:wildfires-postgres)..', url='https://sqladmin.googleapis.com/sql/v1beta4/projects/instance_name/instances/wildfires-postgres/connectSettings'\n"
     ]
    },
    {
     "name": "stdout",
     "output_type": "stream",
     "text": [
      "Could not connect to PostgreSQL database: 400, message='Invalid request: Invalid full instance name (instance_name:wildfires-postgres)..', url='https://sqladmin.googleapis.com/sql/v1beta4/projects/instance_name/instances/wildfires-postgres/connectSettings'\n",
      "Could not load data from PostgreSQL: Database is offline\n",
      "Using downloading directly instead.\n"
     ]
    }
   ],
   "execution_count": 16
  },
  {
   "metadata": {},
   "cell_type": "markdown",
   "source": [
    "## Step 2. Data Exploration\n",
    "\n",
    "Now that we have saved the data in a dataframe, \"df\", it is important to develop a fundamental understanding of our data. While the basic data cleaning occurs during the initialization of the database, we can look deeper into the data to discover further trends.\n",
    "\n",
    "### Gather basic information about the data"
   ],
   "id": "3d858c1c637517d2"
  },
  {
   "metadata": {
    "ExecuteTime": {
     "end_time": "2025-08-25T07:42:12.104205Z",
     "start_time": "2025-08-25T07:42:12.090640Z"
    }
   },
   "cell_type": "code",
   "source": [
    "import pandas as pd\n",
    "df = df[df['incident_date_created'] > \"2016-01-01\"]\n",
    "df['incident_county'] = df['incident_county'].str.split(\",\").str[0].str.strip()\n",
    "df = df[~df['incident_county'].isin(['State of Nevada','State of Oregon','Mexico'])]\n",
    "df_original = df.copy()\n",
    "df.info()"
   ],
   "id": "e35d040b045e0f17",
   "outputs": [
    {
     "name": "stdout",
     "output_type": "stream",
     "text": [
      "<class 'pandas.core.frame.DataFrame'>\n",
      "Index: 2915 entries, 0 to 3238\n",
      "Data columns (total 15 columns):\n",
      " #   Column                         Non-Null Count  Dtype              \n",
      "---  ------                         --------------  -----              \n",
      " 0   incident_name                  2915 non-null   object             \n",
      " 1   incident_date_created          2915 non-null   datetime64[ns, UTC]\n",
      " 2   incident_administrative_unit   2852 non-null   object             \n",
      " 3   incident_county                2909 non-null   object             \n",
      " 4   incident_location              2915 non-null   object             \n",
      " 5   incident_acres_burned          2862 non-null   float64            \n",
      " 6   incident_containment           2861 non-null   float64            \n",
      " 7   incident_cooperating_agencies  1369 non-null   object             \n",
      " 8   incident_longitude             2915 non-null   float64            \n",
      " 9   incident_latitude              2915 non-null   float64            \n",
      " 10  incident_id                    2915 non-null   object             \n",
      " 11  incident_url                   2915 non-null   object             \n",
      " 12  incident_date_extinguished     2178 non-null   datetime64[ns, UTC]\n",
      " 13  is_active                      2915 non-null   object             \n",
      " 14  calfire_incident               2915 non-null   bool               \n",
      "dtypes: bool(1), datetime64[ns, UTC](2), float64(4), object(8)\n",
      "memory usage: 344.4+ KB\n"
     ]
    }
   ],
   "execution_count": 3
  },
  {
   "metadata": {
    "ExecuteTime": {
     "end_time": "2025-08-25T07:42:12.128072Z",
     "start_time": "2025-08-25T07:42:12.113801Z"
    }
   },
   "cell_type": "code",
   "source": "df.describe()",
   "id": "d892a4cf3581ec35",
   "outputs": [
    {
     "data": {
      "text/plain": [
       "       incident_acres_burned  incident_containment  incident_longitude  \\\n",
       "count           2.862000e+03           2861.000000        2.915000e+03   \n",
       "mean            3.844304e+03             99.756379       -4.088384e+05   \n",
       "std             3.424157e+04              4.350195        2.206702e+07   \n",
       "min             0.000000e+00              0.000000       -1.191415e+09   \n",
       "25%             2.500000e+01            100.000000       -1.216006e+02   \n",
       "50%             6.500000e+01            100.000000       -1.204046e+02   \n",
       "75%             2.777500e+02            100.000000       -1.185019e+02   \n",
       "max             1.032648e+06            100.000000        1.189082e+02   \n",
       "\n",
       "       incident_latitude  \n",
       "count        2915.000000  \n",
       "mean           38.801885  \n",
       "std           101.080659  \n",
       "min          -120.258000  \n",
       "25%            34.676445  \n",
       "50%            37.020810  \n",
       "75%            38.970896  \n",
       "max          5487.000000  "
      ],
      "text/html": [
       "<div>\n",
       "<style scoped>\n",
       "    .dataframe tbody tr th:only-of-type {\n",
       "        vertical-align: middle;\n",
       "    }\n",
       "\n",
       "    .dataframe tbody tr th {\n",
       "        vertical-align: top;\n",
       "    }\n",
       "\n",
       "    .dataframe thead th {\n",
       "        text-align: right;\n",
       "    }\n",
       "</style>\n",
       "<table border=\"1\" class=\"dataframe\">\n",
       "  <thead>\n",
       "    <tr style=\"text-align: right;\">\n",
       "      <th></th>\n",
       "      <th>incident_acres_burned</th>\n",
       "      <th>incident_containment</th>\n",
       "      <th>incident_longitude</th>\n",
       "      <th>incident_latitude</th>\n",
       "    </tr>\n",
       "  </thead>\n",
       "  <tbody>\n",
       "    <tr>\n",
       "      <th>count</th>\n",
       "      <td>2.862000e+03</td>\n",
       "      <td>2861.000000</td>\n",
       "      <td>2.915000e+03</td>\n",
       "      <td>2915.000000</td>\n",
       "    </tr>\n",
       "    <tr>\n",
       "      <th>mean</th>\n",
       "      <td>3.844304e+03</td>\n",
       "      <td>99.756379</td>\n",
       "      <td>-4.088384e+05</td>\n",
       "      <td>38.801885</td>\n",
       "    </tr>\n",
       "    <tr>\n",
       "      <th>std</th>\n",
       "      <td>3.424157e+04</td>\n",
       "      <td>4.350195</td>\n",
       "      <td>2.206702e+07</td>\n",
       "      <td>101.080659</td>\n",
       "    </tr>\n",
       "    <tr>\n",
       "      <th>min</th>\n",
       "      <td>0.000000e+00</td>\n",
       "      <td>0.000000</td>\n",
       "      <td>-1.191415e+09</td>\n",
       "      <td>-120.258000</td>\n",
       "    </tr>\n",
       "    <tr>\n",
       "      <th>25%</th>\n",
       "      <td>2.500000e+01</td>\n",
       "      <td>100.000000</td>\n",
       "      <td>-1.216006e+02</td>\n",
       "      <td>34.676445</td>\n",
       "    </tr>\n",
       "    <tr>\n",
       "      <th>50%</th>\n",
       "      <td>6.500000e+01</td>\n",
       "      <td>100.000000</td>\n",
       "      <td>-1.204046e+02</td>\n",
       "      <td>37.020810</td>\n",
       "    </tr>\n",
       "    <tr>\n",
       "      <th>75%</th>\n",
       "      <td>2.777500e+02</td>\n",
       "      <td>100.000000</td>\n",
       "      <td>-1.185019e+02</td>\n",
       "      <td>38.970896</td>\n",
       "    </tr>\n",
       "    <tr>\n",
       "      <th>max</th>\n",
       "      <td>1.032648e+06</td>\n",
       "      <td>100.000000</td>\n",
       "      <td>1.189082e+02</td>\n",
       "      <td>5487.000000</td>\n",
       "    </tr>\n",
       "  </tbody>\n",
       "</table>\n",
       "</div>"
      ]
     },
     "execution_count": 4,
     "metadata": {},
     "output_type": "execute_result"
    }
   ],
   "execution_count": 4
  },
  {
   "metadata": {
    "ExecuteTime": {
     "end_time": "2025-08-25T07:42:12.171141Z",
     "start_time": "2025-08-25T07:42:12.165317Z"
    }
   },
   "cell_type": "code",
   "source": "df.isna().sum()",
   "id": "46482728449cbd4",
   "outputs": [
    {
     "data": {
      "text/plain": [
       "incident_name                       0\n",
       "incident_date_created               0\n",
       "incident_administrative_unit       63\n",
       "incident_county                     6\n",
       "incident_location                   0\n",
       "incident_acres_burned              53\n",
       "incident_containment               54\n",
       "incident_cooperating_agencies    1546\n",
       "incident_longitude                  0\n",
       "incident_latitude                   0\n",
       "incident_id                         0\n",
       "incident_url                        0\n",
       "incident_date_extinguished        737\n",
       "is_active                           0\n",
       "calfire_incident                    0\n",
       "dtype: int64"
      ]
     },
     "execution_count": 5,
     "metadata": {},
     "output_type": "execute_result"
    }
   ],
   "execution_count": 5
  },
  {
   "metadata": {
    "ExecuteTime": {
     "end_time": "2025-08-25T02:28:55.097431Z",
     "start_time": "2025-08-25T02:28:55.094577Z"
    }
   },
   "cell_type": "markdown",
   "source": "### Missing Values",
   "id": "40b8b6eaa010fd7f"
  },
  {
   "metadata": {},
   "cell_type": "markdown",
   "source": [
    "The above function tells us more about what data is and is not available. It seems as though there are some NaN values for some attributes. Some of these null values will have no impact on the analysis, but some will. We can take care of those. It is important to remember, as new data is released, more entries will added which may contain NaN values. We will handle these differently for each variable.\n",
    "\n",
    "* 'incident_acres_burned' has 1 NaN value at the time of analysis, so we can drop that row and any future entries with NaN as only one value will likely not be impactful on our study.\n",
    "* 'incident_county' is also NA, but in minimum quantities, so we will drop this as well.\n",
    "* 'incident_administrative_unit' has 63, but the attribute itself is not very impactful on our research.\n",
    "* 'incident_cooperating_agencies' is similar to admin unit, it is not super important.\n",
    "* 'incident_containment' can be solved by checking if the fire is active or not.\n",
    "* 'incident_date_extinguished' is tricky, we will have to solve this NaN value issue to complete our analysis."
   ],
   "id": "c724ed0bf5111172"
  },
  {
   "metadata": {
    "ExecuteTime": {
     "end_time": "2025-08-25T07:42:12.334748Z",
     "start_time": "2025-08-25T07:42:12.327664Z"
    }
   },
   "cell_type": "code",
   "source": [
    "df = df.dropna(subset = ['incident_acres_burned', 'incident_county', 'incident_containment'])\n",
    "df.isna().sum()"
   ],
   "id": "7e742e9809052d4b",
   "outputs": [
    {
     "data": {
      "text/plain": [
       "incident_name                       0\n",
       "incident_date_created               0\n",
       "incident_administrative_unit       58\n",
       "incident_county                     0\n",
       "incident_location                   0\n",
       "incident_acres_burned               0\n",
       "incident_containment                0\n",
       "incident_cooperating_agencies    1506\n",
       "incident_longitude                  0\n",
       "incident_latitude                   0\n",
       "incident_id                         0\n",
       "incident_url                        0\n",
       "incident_date_extinguished        703\n",
       "is_active                           0\n",
       "calfire_incident                    0\n",
       "dtype: int64"
      ]
     },
     "execution_count": 6,
     "metadata": {},
     "output_type": "execute_result"
    }
   ],
   "execution_count": 6
  },
  {
   "metadata": {},
   "cell_type": "markdown",
   "source": "Now, to deal with 'incident_date_extinguished', it will be more fruitful to analyze the duration of each fire rather than this attribute. As the histogram shows below, there is a left skew of the data. This means that a majority of the wildfires only last a couple of days. Despite this, looking past the 20 day mark, most fires follow a normally distributed duration. We can use these two states to determine the likely missing values of 'duration' based on how large the fire is.",
   "id": "3973c673e3f0b364"
  },
  {
   "metadata": {
    "ExecuteTime": {
     "end_time": "2025-08-25T07:42:12.606431Z",
     "start_time": "2025-08-25T07:42:12.425594Z"
    }
   },
   "cell_type": "code",
   "source": [
    "import seaborn as sns\n",
    "import matplotlib.pyplot as plt\n",
    "df['duration'] = df['incident_date_extinguished'] - df['incident_date_created']\n",
    "df.loc[df['duration'] < pd.Timedelta(0), 'duration'] = pd.NaT\n",
    "df['duration_days'] = df['duration'].dt.days\n",
    "\n",
    "plt.figure(figsize=(10,6))\n",
    "sns.histplot(df['duration_days'], bins = 50, kde = False, stat = 'density')\n",
    "plt.title('Histogram of incident duration')\n",
    "plt.xlabel('Duration (days)')\n",
    "plt.ylabel('Density')\n",
    "plt.show()\n"
   ],
   "id": "33e0d67a608b371a",
   "outputs": [
    {
     "data": {
      "text/plain": [
       "<Figure size 1000x600 with 1 Axes>"
      ],
      "image/png": "[encoded data removed]"
     },
     "metadata": {},
     "output_type": "display_data"
    }
   ],
   "execution_count": 7
  },
  {
   "metadata": {
    "ExecuteTime": {
     "end_time": "2025-08-25T07:42:12.795972Z",
     "start_time": "2025-08-25T07:42:12.648045Z"
    }
   },
   "cell_type": "code",
   "source": [
    "import numpy as np\n",
    "mean_duration = df['duration_days'].mean()\n",
    "duration_na_count = df['duration'].isna().sum()\n",
    "\n",
    "\n",
    "df.loc[df['duration_days'].isna() & (df['incident_acres_burned'] >= 1000), 'duration_days'] = \\\n",
    "    np.random.normal(loc=mean_duration, scale=5, size=(df[\"duration_days\"].isna() & (df[\"incident_acres_burned\"] >= 1000)).sum()).round()\n",
    "df.loc[df['duration_days'].isna() & (df['incident_acres_burned'] < 1000), 'duration_days'] = \\\n",
    "    np.random.normal(loc=1, scale=1, size=(df[\"duration_days\"].isna() & (df[\"incident_acres_burned\"] < 1000)).sum()).round()\n",
    "\n",
    "plt.figure(figsize=(10,4))\n",
    "sns.histplot(df['duration_days'], bins = 50, kde = False, stat = 'density')\n",
    "plt.title(f'Histogram of duration_days after adjusting for {duration_na_count} missing values')\n",
    "plt.xlabel('Duration (days)')\n",
    "plt.ylabel('Density')\n",
    "plt.show()"
   ],
   "id": "8c5c509254a1ae9e",
   "outputs": [
    {
     "data": {
      "text/plain": [
       "<Figure size 1000x400 with 1 Axes>"
      ],
      "image/png": "[encoded data removed]"
     },
     "metadata": {},
     "output_type": "display_data"
    }
   ],
   "execution_count": 8
  },
  {
   "metadata": {
    "ExecuteTime": {
     "end_time": "2025-08-25T07:42:12.806856Z",
     "start_time": "2025-08-25T07:42:12.801235Z"
    }
   },
   "cell_type": "code",
   "source": "df.isnull().sum()",
   "id": "a7096bd9d2825c8d",
   "outputs": [
    {
     "data": {
      "text/plain": [
       "incident_name                       0\n",
       "incident_date_created               0\n",
       "incident_administrative_unit       58\n",
       "incident_county                     0\n",
       "incident_location                   0\n",
       "incident_acres_burned               0\n",
       "incident_containment                0\n",
       "incident_cooperating_agencies    1506\n",
       "incident_longitude                  0\n",
       "incident_latitude                   0\n",
       "incident_id                         0\n",
       "incident_url                        0\n",
       "incident_date_extinguished        703\n",
       "is_active                           0\n",
       "calfire_incident                    0\n",
       "duration                          777\n",
       "duration_days                       0\n",
       "dtype: int64"
      ]
     },
     "execution_count": 9,
     "metadata": {},
     "output_type": "execute_result"
    }
   ],
   "execution_count": 9
  },
  {
   "metadata": {},
   "cell_type": "markdown",
   "source": "Now that we have completed our data manipulation when it comes to NaN values, we can look at any outliers our data may possess.",
   "id": "e7e541e5e662050a"
  },
  {
   "metadata": {},
   "cell_type": "markdown",
   "source": [
    "### Handling Outliers\n",
    "With a database such as this that covers such a broad range of attributes (think about how many varying the longitude value could be across the entire state of California), we need to be creative in order to assure that all values are acting accordingly.\n",
    "\n",
    "The first notion that comes to mind, as just stated, is incident_longitude and incident_latitude. These two values, while quite varying, need to fit into the state of California in order to qualify for our assessment. When putting the data into a geospatial map, it is apparent that some of these latitude, longitude combinations are out of range or null. We can fix this by finding the average of 'incident_longitude' and 'incident_latitude' across the dataset when 'incident_county' is the same as the outlier's. With how many data entries there are in this database, it's unlikely the outliers will have a significant effect on the data when their manipulated like this."
   ],
   "id": "52a938ef9c78c8ea"
  },
  {
   "metadata": {
    "ExecuteTime": {
     "end_time": "2025-08-25T07:42:12.916939Z",
     "start_time": "2025-08-25T07:42:12.849771Z"
    }
   },
   "cell_type": "code",
   "source": [
    "if 'incident_latitude_clean' not in df.columns:\n",
    "    df['incident_latitude_clean'] = df['incident_latitude']\n",
    "if 'incident_longitude_clean' not in df.columns:\n",
    "    df['incident_longitude_clean'] = df['incident_longitude']\n",
    "\n",
    "def is_outlier(lat, lon):\n",
    "    if pd.isna(lat) or pd.isna(lon):\n",
    "        return True\n",
    "    return not (32.5 <= lat <= 42 and -124.5 <= lon <= -114)\n",
    "\n",
    "df['incident_latitude_clean'] = df.apply(\n",
    "    lambda row: np.nan if is_outlier(row['incident_latitude'], row['incident_longitude'])\n",
    "    else row['incident_latitude'],\n",
    "    axis=1\n",
    ")\n",
    "\n",
    "df['incident_longitude_clean'] = df.apply(\n",
    "    lambda row: np.nan if is_outlier(row['incident_latitude'], row['incident_longitude'])\n",
    "    else row['incident_longitude'],\n",
    "    axis=1\n",
    ")\n",
    "\n",
    "county_means = df.groupby('incident_county')[['incident_longitude_clean', 'incident_latitude_clean']].mean()\n",
    "df = df.join(county_means, on='incident_county', rsuffix='_county_avg')\n",
    "\n",
    "df['incident_latitude_clean'] = df['incident_latitude_clean'].fillna(df['incident_latitude_clean_county_avg'])\n",
    "df['incident_longitude_clean'] = df['incident_longitude_clean'].fillna(df['incident_longitude_clean_county_avg'])\n",
    "df = df.drop(['incident_latitude_clean_county_avg', 'incident_longitude_clean_county_avg'], axis=1)\n",
    "\n",
    "print(df[['incident_latitude_clean', 'incident_longitude_clean']].describe())"
   ],
   "id": "a0ca34deefa7924f",
   "outputs": [
    {
     "name": "stdout",
     "output_type": "stream",
     "text": [
      "       incident_latitude_clean  incident_longitude_clean\n",
      "count              2850.000000               2850.000000\n",
      "mean                 36.970906               -120.062319\n",
      "std                   2.501679                  2.003906\n",
      "min                  32.557566               -124.362017\n",
      "25%                  34.674907               -121.605040\n",
      "50%                  37.016427               -120.431842\n",
      "75%                  38.916695               -118.504892\n",
      "max                  41.994830               -114.276308\n"
     ]
    }
   ],
   "execution_count": 10
  },
  {
   "metadata": {},
   "cell_type": "markdown",
   "source": "Now we can look towards other important variables, so next lets handle the 'duration' variable that we created earlier. If there are outliers, we will follow the standard data analytics practice of setting the upper limit equal to 1.5 times the interquartile range added to the 75th percentile.",
   "id": "8f8dba35daffcc24"
  },
  {
   "metadata": {
    "ExecuteTime": {
     "end_time": "2025-08-25T07:42:43.360510Z",
     "start_time": "2025-08-25T07:42:43.237132Z"
    }
   },
   "cell_type": "code",
   "source": [
    "df_original = df.copy()\n",
    "df_subset = df.copy()\n",
    "\n",
    "percentile25 = df['duration_days'].quantile(0.25)\n",
    "percentile75 = df['duration_days'].quantile(0.75)\n",
    "iqr = percentile75 - percentile25\n",
    "upper_limit = percentile75 + 1.5 * iqr\n",
    "df_subset.loc[df_subset['duration_days'] > upper_limit, 'duration_days'] = upper_limit\n",
    "\n",
    "fig, (ax1, ax2) = plt.subplots(nrows = 1, ncols = 2)\n",
    "ax1.boxplot(x=df_original['duration_days'])\n",
    "ax1.set_title('Boxplot of duration before handling')\n",
    "ax1.set_ylabel('Duration (days)')\n",
    "\n",
    "ax2.boxplot(x=df_subset['duration_days'])\n",
    "ax2.set_title('Boxplot of duration after handling')\n",
    "plt.show()"
   ],
   "id": "9e9c355f69e65955",
   "outputs": [
    {
     "data": {
      "text/plain": [
       "<Figure size 640x480 with 2 Axes>"
      ],
      "image/png": "[encoded data removed]"
     },
     "metadata": {},
     "output_type": "display_data"
    }
   ],
   "execution_count": 14
  },
  {
   "metadata": {
    "ExecuteTime": {
     "end_time": "2025-08-25T06:34:55.255125Z",
     "start_time": "2025-08-25T06:34:55.250356Z"
    }
   },
   "cell_type": "code",
   "source": [
    "#df.loc[df['incident_acres_burned'].isnull(), ['incident_name','incident_county']]\n",
    "df['incident_county'].value_counts()"
   ],
   "id": "6e5621a8fdf95b47",
   "outputs": [
    {
     "data": {
      "text/plain": [
       "incident_county\n",
       "Riverside          309\n",
       "Kern               161\n",
       "Fresno             159\n",
       "San Diego          149\n",
       "Los Angeles        113\n",
       "San Luis Obispo    110\n",
       "San Bernardino     102\n",
       "Siskiyou            94\n",
       "Butte               91\n",
       "Shasta              82\n",
       "Tehama              76\n",
       "Madera              72\n",
       "Monterey            71\n",
       "Tulare              71\n",
       "Lassen              60\n",
       "Merced              60\n",
       "Alameda             52\n",
       "Santa Clara         52\n",
       "Lake                48\n",
       "El Dorado           46\n",
       "Modoc               45\n",
       "Contra Costa        45\n",
       "Mariposa            45\n",
       "Santa Barbara       44\n",
       "Mendocino           40\n",
       "San Benito          39\n",
       "Calaveras           38\n",
       "Yuba                38\n",
       "Placer              38\n",
       "Solano              37\n",
       "Tuolumne            36\n",
       "Ventura             33\n",
       "Humboldt            33\n",
       "Sacramento          31\n",
       "Stanislaus          30\n",
       "Napa                29\n",
       "Trinity             24\n",
       "Sonoma              23\n",
       "San Joaquin         21\n",
       "Amador              20\n",
       "Nevada              20\n",
       "Inyo                17\n",
       "Kings               16\n",
       "Glenn               15\n",
       "Plumas              15\n",
       "Colusa              14\n",
       "Orange              14\n",
       "Yolo                12\n",
       "Mono                12\n",
       "Santa Cruz          11\n",
       "Marin               10\n",
       "Del Norte            8\n",
       "Sierra               5\n",
       "Sutter               4\n",
       "Alpine               3\n",
       "San Mateo            3\n",
       "Imperial             3\n",
       "Name: count, dtype: int64"
      ]
     },
     "execution_count": 54,
     "metadata": {},
     "output_type": "execute_result"
    }
   ],
   "execution_count": 54
  },
  {
   "metadata": {
    "ExecuteTime": {
     "end_time": "2025-08-25T07:21:41.686487Z",
     "start_time": "2025-08-25T07:21:41.600866Z"
    }
   },
   "cell_type": "code",
   "source": "sns.boxplot(x = df['duration_days'])\n",
   "id": "5855464fe7130674",
   "outputs": [
    {
     "data": {
      "text/plain": [
       "<Axes: xlabel='duration_days'>"
      ]
     },
     "execution_count": 21,
     "metadata": {},
     "output_type": "execute_result"
    },
    {
     "data": {
      "text/plain": [
       "<Figure size 640x480 with 1 Axes>"
      ],
      "image/png": "[encoded data removed]"
     },
     "metadata": {},
     "output_type": "display_data"
    }
   ],
   "execution_count": 21
  },
  {
   "metadata": {
    "ExecuteTime": {
     "end_time": "2025-08-25T07:21:33.034111Z",
     "start_time": "2025-08-25T07:21:33.031825Z"
    }
   },
   "cell_type": "code",
   "source": "",
   "id": "c28e25ffa76a135",
   "outputs": [],
   "execution_count": null
  },
  {
   "metadata": {},
   "cell_type": "code",
   "outputs": [],
   "execution_count": null,
   "source": "",
   "id": "6b7e03eb78512ea5"
  }
 ],
 "metadata": {
  "kernelspec": {
   "display_name": "Python 3 (ipykernel)",
   "language": "python",
   "name": "python3"
  },
  "language_info": {
   "codemirror_mode": {
    "name": "ipython",
    "version": 3
   },
   "file_extension": ".py",
   "mimetype": "text/x-python",
   "name": "python",
   "nbconvert_exporter": "python",
   "pygments_lexer": "ipython3",
   "version": "3.13.4"
  }
 },
 "nbformat": 4,
 "nbformat_minor": 5
}
